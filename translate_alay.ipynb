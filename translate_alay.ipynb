{
 "cells": [
  {
   "cell_type": "code",
   "execution_count": 1,
   "metadata": {},
   "outputs": [
    {
     "ename": "SyntaxError",
     "evalue": "invalid syntax (<ipython-input-1-600ffb3d8682>, line 3)",
     "output_type": "error",
     "traceback": [
      "\u001b[1;36m  File \u001b[1;32m\"<ipython-input-1-600ffb3d8682>\"\u001b[1;36m, line \u001b[1;32m3\u001b[0m\n\u001b[1;33m    \"a\"=\"4\"\u001b[0m\n\u001b[1;37m       ^\u001b[0m\n\u001b[1;31mSyntaxError\u001b[0m\u001b[1;31m:\u001b[0m invalid syntax\n"
     ]
    }
   ],
   "source": [
    "def translate_alay(huruf):\n",
    "    switcher = {\n",
    "        \"a\"=\"4\"\n",
    "        \"e\"=\"3\"\n",
    "        \"i\"=\"1\"\n",
    "        \"o\"=\"0\"\n",
    "        \"r\"=\"2\"\n",
    "    }\n",
    "    return switcher.get(huruf,\"nothing\")\n",
    "huruf=\"a\"\n",
    "print (translate_alay(huruf))"
   ]
  },
  {
   "cell_type": "code",
   "execution_count": 2,
   "metadata": {},
   "outputs": [
    {
     "ename": "SyntaxError",
     "evalue": "invalid syntax (<ipython-input-2-ac8f7cc90726>, line 4)",
     "output_type": "error",
     "traceback": [
      "\u001b[1;36m  File \u001b[1;32m\"<ipython-input-2-ac8f7cc90726>\"\u001b[1;36m, line \u001b[1;32m4\u001b[0m\n\u001b[1;33m    \"e\":\"3\"\u001b[0m\n\u001b[1;37m       ^\u001b[0m\n\u001b[1;31mSyntaxError\u001b[0m\u001b[1;31m:\u001b[0m invalid syntax\n"
     ]
    }
   ],
   "source": [
    "def translate_alay(huruf):\n",
    "    switcher = {\n",
    "        \"a\":\"4\"\n",
    "        \"e\":\"3\"\n",
    "        \"i\":\"1\"\n",
    "        \"o\":\"0\"\n",
    "        \"r\":\"2\"\n",
    "    }\n",
    "    return switcher.get(huruf,\"nothing\")\n",
    "huruf=\"a\"\n",
    "print (translate_alay(huruf))"
   ]
  },
  {
   "cell_type": "code",
   "execution_count": 3,
   "metadata": {},
   "outputs": [
    {
     "name": "stdout",
     "output_type": "stream",
     "text": [
      "4\n"
     ]
    }
   ],
   "source": [
    "def translate_alay(huruf):\n",
    "    switcher = {\n",
    "        \"a\":\"4\",\n",
    "        \"e\":\"3\",\n",
    "        \"i\":\"1\",\n",
    "        \"o\":\"0\",\n",
    "        \"r\":\"2\",\n",
    "    }\n",
    "    return switcher.get(huruf,\"nothing\")\n",
    "huruf=\"a\"\n",
    "print (translate_alay(huruf))"
   ]
  },
  {
   "cell_type": "code",
   "execution_count": 5,
   "metadata": {},
   "outputs": [
    {
     "name": "stdout",
     "output_type": "stream",
     "text": [
      "z\n"
     ]
    }
   ],
   "source": [
    "def translate_alay(huruf):\n",
    "    switcher = {\n",
    "        \"a\":\"4\",\n",
    "        \"e\":\"3\",\n",
    "        \"i\":\"1\",\n",
    "        \"o\":\"0\",\n",
    "        \"r\":\"2\",\n",
    "    }\n",
    "    return switcher.get(huruf,huruf)\n",
    "huruf=\"z\"\n",
    "print (translate_alay(huruf))"
   ]
  },
  {
   "cell_type": "code",
   "execution_count": 8,
   "metadata": {},
   "outputs": [
    {
     "name": "stdout",
     "output_type": "stream",
     "text": [
      "masukkan kalimat= ica\n",
      "1c4\n"
     ]
    }
   ],
   "source": [
    "def translate_alay(huruf):\n",
    "    switcher = {\n",
    "        \"a\":\"4\",\n",
    "        \"e\":\"3\",\n",
    "        \"i\":\"1\",\n",
    "        \"o\":\"0\",\n",
    "        \"r\":\"2\",\n",
    "        \"s\":\"5\",\n",
    "        \"g\":\"6\",\n",
    "        \"t\":\"+\",\n",
    "    }\n",
    "    return switcher.get(huruf,huruf)\n",
    "mau_apa = input (\"masukkan kalimat= \")\n",
    "mau_apa = mau_apa.lower()\n",
    "\n",
    "if len(mau_apa)>0 and mau_apa.isalpha():\n",
    "    banyak= len(mau_apa)\n",
    "    count= 0\n",
    "    katabaru=\"\"\n",
    "    while count<banyak :\n",
    "        katabaru = katabaru + translate_alay(mau_apa[count])\n",
    "        count+=1\n",
    "    print (katabaru)\n",
    "else:\n",
    "    print (\"masukkan kata\")\n",
    "    "
   ]
  },
  {
   "cell_type": "code",
   "execution_count": null,
   "metadata": {},
   "outputs": [],
   "source": []
  },
  {
   "cell_type": "code",
   "execution_count": 18,
   "metadata": {},
   "outputs": [
    {
     "name": "stdout",
     "output_type": "stream",
     "text": [
      "masukkan kalimat= 4apa\n",
      "44p4\n"
     ]
    }
   ],
   "source": [
    "def translate_alay(huruf):\n",
    "    switcher = {\n",
    "        \"a\":\"4\",\n",
    "        \"e\":\"3\",\n",
    "        \"i\":\"1\",\n",
    "        \"o\":\"0\",\n",
    "        \"r\":\"2\",\n",
    "        \"s\":\"5\",\n",
    "        \"g\":\"6\",\n",
    "        \"t\":\"+\",\n",
    "    }\n",
    "    return switcher.get(huruf,huruf)\n",
    "mau_apa = input (\"masukkan kalimat= \")\n",
    "mau_apa = mau_apa.lower()\n",
    "\n",
    "if len(mau_apa)>0:\n",
    "    banyak= len(mau_apa)\n",
    "    count= 0\n",
    "    katabaru=\"\"\n",
    "    while count<banyak :\n",
    "        katabaru = katabaru + translate_alay(mau_apa[count])\n",
    "        count+=1\n",
    "    print (katabaru)\n",
    "else:\n",
    "    print (\"masukkan kata\")"
   ]
  },
  {
   "cell_type": "code",
   "execution_count": 10,
   "metadata": {},
   "outputs": [
    {
     "name": "stdout",
     "output_type": "stream",
     "text": [
      "u\n",
      " \n"
     ]
    }
   ],
   "source": [
    "kalimat = \"Mau apa ya\"\n",
    "print (kalimat[2])\n",
    "print (kalimat[3])"
   ]
  },
  {
   "cell_type": "code",
   "execution_count": 11,
   "metadata": {},
   "outputs": [
    {
     "ename": "AttributeError",
     "evalue": "'builtin_function_or_method' object has no attribute 'kalimat'",
     "output_type": "error",
     "traceback": [
      "\u001b[1;31m---------------------------------------------------------------------------\u001b[0m",
      "\u001b[1;31mAttributeError\u001b[0m                            Traceback (most recent call last)",
      "\u001b[1;32m<ipython-input-11-925a0bdf28fe>\u001b[0m in \u001b[0;36m<module>\u001b[1;34m\u001b[0m\n\u001b[1;32m----> 1\u001b[1;33m \u001b[0mprint\u001b[0m\u001b[1;33m(\u001b[0m\u001b[0mlen\u001b[0m\u001b[1;33m.\u001b[0m\u001b[0mkalimat\u001b[0m\u001b[1;33m)\u001b[0m\u001b[1;33m\u001b[0m\u001b[1;33m\u001b[0m\u001b[0m\n\u001b[0m",
      "\u001b[1;31mAttributeError\u001b[0m: 'builtin_function_or_method' object has no attribute 'kalimat'"
     ]
    }
   ],
   "source": [
    "print(len.kalimat)"
   ]
  },
  {
   "cell_type": "code",
   "execution_count": 12,
   "metadata": {},
   "outputs": [
    {
     "name": "stdout",
     "output_type": "stream",
     "text": [
      "10\n"
     ]
    }
   ],
   "source": [
    "print(len(kalimat))"
   ]
  },
  {
   "cell_type": "code",
   "execution_count": null,
   "metadata": {},
   "outputs": [],
   "source": []
  }
 ],
 "metadata": {
  "kernelspec": {
   "display_name": "Python 3",
   "language": "python",
   "name": "python3"
  },
  "language_info": {
   "codemirror_mode": {
    "name": "ipython",
    "version": 3
   },
   "file_extension": ".py",
   "mimetype": "text/x-python",
   "name": "python",
   "nbconvert_exporter": "python",
   "pygments_lexer": "ipython3",
   "version": "3.7.4"
  }
 },
 "nbformat": 4,
 "nbformat_minor": 2
}
