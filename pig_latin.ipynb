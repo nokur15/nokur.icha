{
 "cells": [
  {
   "cell_type": "code",
   "execution_count": 1,
   "metadata": {},
   "outputs": [
    {
     "name": "stdout",
     "output_type": "stream",
     "text": [
      "Welcome to the Pig Latin Translator!\n",
      "Enter a word:bacteria\n",
      "bacteria\n"
     ]
    }
   ],
   "source": [
    "print ('Welcome to the Pig Latin Translator!')\n",
    "original = input(\"Enter a word:\")\n",
    "if len(original) > 0 and original.isalpha():\n",
    "    print (original)\n",
    "else:\n",
    "    print (\"empty\")"
   ]
  },
  {
   "cell_type": "code",
   "execution_count": null,
   "metadata": {},
   "outputs": [],
   "source": []
  },
  {
   "cell_type": "code",
   "execution_count": 2,
   "metadata": {},
   "outputs": [
    {
     "name": "stdout",
     "output_type": "stream",
     "text": [
      "Welcome to the Pig Latin Translator!\n",
      "Enter a word:aku\n",
      "aku\n"
     ]
    }
   ],
   "source": [
    "print ('Welcome to the Pig Latin Translator!')\n",
    "original = input(\"Enter a word:\")\n",
    "if len(original) > 0 and original.isalpha():\n",
    "    print (original)\n",
    "else:\n",
    "    print (\"empty\")"
   ]
  },
  {
   "cell_type": "code",
   "execution_count": 3,
   "metadata": {},
   "outputs": [
    {
     "name": "stdout",
     "output_type": "stream",
     "text": [
      "Welcome to the Pig Latin Translator!\n",
      "Enter a word:\n",
      "empty\n"
     ]
    }
   ],
   "source": [
    "print ('Welcome to the Pig Latin Translator!')\n",
    "original = input(\"Enter a word:\")\n",
    "if len(original) > 0 and original.isalpha():\n",
    "    print (original)\n",
    "else:\n",
    "    print (\"empty\")"
   ]
  },
  {
   "cell_type": "code",
   "execution_count": 4,
   "metadata": {},
   "outputs": [
    {
     "name": "stdout",
     "output_type": "stream",
     "text": [
      "Welcome to the Pig Latin Translator!\n",
      "Enter a word:choco\n",
      "hococay\n"
     ]
    }
   ],
   "source": [
    "print ('Welcome to the Pig Latin Translator!')\n",
    "pyg = 'ay'\n",
    "original = input('Enter a word:')\n",
    "if len(original) > 0 and original.isalpha():\n",
    "    word = original.lower()\n",
    "    first = word[0]\n",
    "    new_word = word + first + pyg\n",
    "    new_word = new_word[0:len(new_word)] \n",
    "    print (new_word)\n",
    "else:\n",
    "    print ('empty')"
   ]
  },
  {
   "cell_type": "code",
   "execution_count": 5,
   "metadata": {},
   "outputs": [
    {
     "name": "stdout",
     "output_type": "stream",
     "text": [
      "Welcome to the Pig Latin Translator!\n",
      "Enter a word:choco\n",
      "chococay\n"
     ]
    }
   ],
   "source": [
    "print ('Welcome to the Pig Latin Translator!')\n",
    "pyg = 'ay'\n",
    "original = input('Enter a word:')\n",
    "if len(original) > 0 and original.isalpha():\n",
    "    word = original.lower()\n",
    "    first = word[0]\n",
    "    new_word = word + first + pyg\n",
    "    new_word = new_word[0:len(new_word)] \n",
    "    print (new_word)\n",
    "else:\n",
    "    print ('empty')"
   ]
  },
  {
   "cell_type": "code",
   "execution_count": null,
   "metadata": {},
   "outputs": [
    {
     "name": "stdout",
     "output_type": "stream",
     "text": [
      "Welcome to the Pig Latin Translator!\n"
     ]
    }
   ],
   "source": [
    "print ('Welcome to the Pig Latin Translator!')\n",
    "pyg = 'ay'\n",
    "original = input('Enter a word:')\n",
    "if len(original) > 0 and original.isalpha():\n",
    "    word = original.lower()\n",
    "    first = word[0]\n",
    "    new_word = word + first + pyg\n",
    "    new_word = new_word[0:len(new_word)] \n",
    "    print (new_word)\n",
    "else:\n",
    "    print ('empty')"
   ]
  },
  {
   "cell_type": "code",
   "execution_count": null,
   "metadata": {},
   "outputs": [],
   "source": []
  },
  {
   "cell_type": "code",
   "execution_count": null,
   "metadata": {},
   "outputs": [],
   "source": [
    "print ('Welcome to the Pig Latin Translator!')\n",
    "pyg = 'ay'\n",
    "original = input('Enter a word:')\n",
    "if len(original) > 0 and original.isalpha():\n",
    "    word = original.lower()\n",
    "    first = word[0]\n",
    "    new_word = word + first + pyg\n",
    "    new_word = new_word[0:len(new_word)] \n",
    "    print (new_word)\n",
    "else:\n",
    "    print ('empty')"
   ]
  },
  {
   "cell_type": "code",
   "execution_count": null,
   "metadata": {},
   "outputs": [],
   "source": [
    "print ('Welcome to the Pig Latin Translator!')\n",
    "pyg = 'ay'\n",
    "original = input('Enter a word:')\n",
    "if len(original) > 0 and original.isalpha():\n",
    "    word = original.lower()\n",
    "    first = word[0]\n",
    "    new_word = word + first + pyg\n",
    "    new_word = new_word[0:len(new_word)] \n",
    "    print (new_word)\n",
    "else:\n",
    "    print ('empty')"
   ]
  },
  {
   "cell_type": "code",
   "execution_count": null,
   "metadata": {},
   "outputs": [],
   "source": [
    "print ('Welcome to the Pig Latin Translator!')\n",
    "pyg = 'ay'\n",
    "original = input('Enter a word:')\n",
    "if len(original) > 0 and original.isalpha():\n",
    "    word = original.lower()\n",
    "    first = word[0]\n",
    "    new_word = word + first + pyg\n",
    "    new_word = new_word[0:len(new_word)] \n",
    "    print (new_word)\n",
    "else:\n",
    "    print ('empty')"
   ]
  },
  {
   "cell_type": "code",
   "execution_count": 1,
   "metadata": {},
   "outputs": [
    {
     "name": "stdout",
     "output_type": "stream",
     "text": [
      "Welcome to the Pig Latin Translator!\n",
      "Enter a word:ICA\n",
      "icaiay\n"
     ]
    }
   ],
   "source": [
    "print ('Welcome to the Pig Latin Translator!')\n",
    "pyg = 'ay'\n",
    "original = input('Enter a word:')\n",
    "if len(original) > 0 and original.isalpha():\n",
    "    word = original.lower()\n",
    "    first = word[0]\n",
    "    new_word = word + first + pyg\n",
    "    new_word = new_word[1:len(new_word)] \n",
    "    print (new_word)\n",
    "else:\n",
    "    print ('empty')"
   ]
  },
  {
   "cell_type": "code",
   "execution_count": 2,
   "metadata": {},
   "outputs": [
    {
     "name": "stdout",
     "output_type": "stream",
     "text": [
      "Welcome to the Reverse Pig Latin Translator!\n",
      "Enter a word:choco\n",
      "hococay\n"
     ]
    }
   ],
   "source": [
    "print ('Welcome to the Reverse Pig Latin Translator!')\n",
    "pyg = 'ay'\n",
    "original = input('Enter a word:')\n",
    "if len(original) > 0 and original.isalpha():\n",
    "    word = original.lower()\n",
    "    first = word[0]\n",
    "    new_word = word + first + pyg\n",
    "    new_word = new_word[1:len(new_word)] \n",
    "    print (new_word)\n",
    "else:\n",
    "    print ('empty')"
   ]
  },
  {
   "cell_type": "code",
   "execution_count": null,
   "metadata": {},
   "outputs": [],
   "source": []
  },
  {
   "cell_type": "code",
   "execution_count": 3,
   "metadata": {},
   "outputs": [
    {
     "ename": "SyntaxError",
     "evalue": "invalid syntax (<ipython-input-3-e92063507a7c>, line 10)",
     "output_type": "error",
     "traceback": [
      "\u001b[0;36m  File \u001b[0;32m\"<ipython-input-3-e92063507a7c>\"\u001b[0;36m, line \u001b[0;32m10\u001b[0m\n\u001b[0;31m    if match = pyg:\u001b[0m\n\u001b[0m             ^\u001b[0m\n\u001b[0;31mSyntaxError\u001b[0m\u001b[0;31m:\u001b[0m invalid syntax\n"
     ]
    }
   ],
   "source": [
    "print ('Welcome to the Reverse Pig Latin Translator!')\n",
    "pyg = 'ay'\n",
    "original = input('Enter a word:')\n",
    "if len(original) > 0 and original.isalpha():\n",
    "    word = original.lower()\n",
    "    middle = word[len(word)-2]\n",
    "    terakhir = word[len(word)]\n",
    "    dua_terakhir = word[len(word)-1]\n",
    "    match = dua_terakhir+terakhir\n",
    "    if match = pyg:\n",
    "        trans_word = word - pyg\n",
    "        new_word = middle + trans_word[1:(len(trans_word)-1)] \n",
    "        print (new_word)\n",
    "    else:\n",
    "        print(\"Reverse Pig Latin Translator Gagal\")\n",
    "else:\n",
    "    print ('empty')"
   ]
  },
  {
   "cell_type": "code",
   "execution_count": 4,
   "metadata": {},
   "outputs": [
    {
     "name": "stdout",
     "output_type": "stream",
     "text": [
      "Welcome to the Reverse Pig Latin Translator!\n",
      "Enter a word:apalkay\n"
     ]
    },
    {
     "ename": "IndexError",
     "evalue": "string index out of range",
     "output_type": "error",
     "traceback": [
      "\u001b[0;31m---------------------------------------------------------------------------\u001b[0m",
      "\u001b[0;31mIndexError\u001b[0m                                Traceback (most recent call last)",
      "\u001b[0;32m<ipython-input-4-1134acfc03c3>\u001b[0m in \u001b[0;36m<module>\u001b[0;34m\u001b[0m\n\u001b[1;32m      5\u001b[0m     \u001b[0mword\u001b[0m \u001b[0;34m=\u001b[0m \u001b[0moriginal\u001b[0m\u001b[0;34m.\u001b[0m\u001b[0mlower\u001b[0m\u001b[0;34m(\u001b[0m\u001b[0;34m)\u001b[0m\u001b[0;34m\u001b[0m\u001b[0;34m\u001b[0m\u001b[0m\n\u001b[1;32m      6\u001b[0m     \u001b[0mmiddle\u001b[0m \u001b[0;34m=\u001b[0m \u001b[0mword\u001b[0m\u001b[0;34m[\u001b[0m\u001b[0mlen\u001b[0m\u001b[0;34m(\u001b[0m\u001b[0mword\u001b[0m\u001b[0;34m)\u001b[0m\u001b[0;34m-\u001b[0m\u001b[0;36m2\u001b[0m\u001b[0;34m]\u001b[0m\u001b[0;34m\u001b[0m\u001b[0;34m\u001b[0m\u001b[0m\n\u001b[0;32m----> 7\u001b[0;31m     \u001b[0mterakhir\u001b[0m \u001b[0;34m=\u001b[0m \u001b[0mword\u001b[0m\u001b[0;34m[\u001b[0m\u001b[0mlen\u001b[0m\u001b[0;34m(\u001b[0m\u001b[0mword\u001b[0m\u001b[0;34m)\u001b[0m\u001b[0;34m]\u001b[0m\u001b[0;34m\u001b[0m\u001b[0;34m\u001b[0m\u001b[0m\n\u001b[0m\u001b[1;32m      8\u001b[0m     \u001b[0mdua_terakhir\u001b[0m \u001b[0;34m=\u001b[0m \u001b[0mword\u001b[0m\u001b[0;34m[\u001b[0m\u001b[0mlen\u001b[0m\u001b[0;34m(\u001b[0m\u001b[0mword\u001b[0m\u001b[0;34m)\u001b[0m\u001b[0;34m-\u001b[0m\u001b[0;36m1\u001b[0m\u001b[0;34m]\u001b[0m\u001b[0;34m\u001b[0m\u001b[0;34m\u001b[0m\u001b[0m\n\u001b[1;32m      9\u001b[0m     \u001b[0mmatch\u001b[0m \u001b[0;34m=\u001b[0m \u001b[0mdua_terakhir\u001b[0m\u001b[0;34m+\u001b[0m\u001b[0mterakhir\u001b[0m\u001b[0;34m\u001b[0m\u001b[0;34m\u001b[0m\u001b[0m\n",
      "\u001b[0;31mIndexError\u001b[0m: string index out of range"
     ]
    }
   ],
   "source": [
    "print ('Welcome to the Reverse Pig Latin Translator!')\n",
    "pyg = 'ay'\n",
    "original = input('Enter a word:')\n",
    "if len(original) > 0 and original.isalpha():\n",
    "    word = original.lower()\n",
    "    middle = word[len(word)-2]\n",
    "    terakhir = word[len(word)]\n",
    "    dua_terakhir = word[len(word)-1]\n",
    "    match = dua_terakhir+terakhir\n",
    "    if match == pyg:\n",
    "        trans_word = word - pyg\n",
    "        new_word = middle + trans_word[1:(len(trans_word)-1)] \n",
    "        print (new_word)\n",
    "    else:\n",
    "        print(\"Reverse Pig Latin Translator Gagal\")\n",
    "else:\n",
    "    print ('empty')"
   ]
  },
  {
   "cell_type": "code",
   "execution_count": 5,
   "metadata": {},
   "outputs": [
    {
     "name": "stdout",
     "output_type": "stream",
     "text": [
      "Welcome to the Reverse Pig Latin Translator!\n",
      "Enter a word:apalkay\n"
     ]
    },
    {
     "ename": "TypeError",
     "evalue": "unsupported operand type(s) for -: 'str' and 'str'",
     "output_type": "error",
     "traceback": [
      "\u001b[0;31m---------------------------------------------------------------------------\u001b[0m",
      "\u001b[0;31mTypeError\u001b[0m                                 Traceback (most recent call last)",
      "\u001b[0;32m<ipython-input-5-dfcb4326867e>\u001b[0m in \u001b[0;36m<module>\u001b[0;34m\u001b[0m\n\u001b[1;32m      9\u001b[0m     \u001b[0mmatch\u001b[0m \u001b[0;34m=\u001b[0m \u001b[0mdua_terakhir\u001b[0m\u001b[0;34m+\u001b[0m\u001b[0mterakhir\u001b[0m\u001b[0;34m\u001b[0m\u001b[0;34m\u001b[0m\u001b[0m\n\u001b[1;32m     10\u001b[0m     \u001b[0;32mif\u001b[0m \u001b[0mmatch\u001b[0m \u001b[0;34m==\u001b[0m \u001b[0mpyg\u001b[0m\u001b[0;34m:\u001b[0m\u001b[0;34m\u001b[0m\u001b[0;34m\u001b[0m\u001b[0m\n\u001b[0;32m---> 11\u001b[0;31m         \u001b[0mtrans_word\u001b[0m \u001b[0;34m=\u001b[0m \u001b[0mword\u001b[0m \u001b[0;34m-\u001b[0m \u001b[0mpyg\u001b[0m\u001b[0;34m\u001b[0m\u001b[0;34m\u001b[0m\u001b[0m\n\u001b[0m\u001b[1;32m     12\u001b[0m         \u001b[0mnew_word\u001b[0m \u001b[0;34m=\u001b[0m \u001b[0mmiddle\u001b[0m \u001b[0;34m+\u001b[0m \u001b[0mtrans_word\u001b[0m\u001b[0;34m[\u001b[0m\u001b[0;36m1\u001b[0m\u001b[0;34m:\u001b[0m\u001b[0;34m(\u001b[0m\u001b[0mlen\u001b[0m\u001b[0;34m(\u001b[0m\u001b[0mtrans_word\u001b[0m\u001b[0;34m)\u001b[0m\u001b[0;34m-\u001b[0m\u001b[0;36m1\u001b[0m\u001b[0;34m)\u001b[0m\u001b[0;34m]\u001b[0m\u001b[0;34m\u001b[0m\u001b[0;34m\u001b[0m\u001b[0m\n\u001b[1;32m     13\u001b[0m         \u001b[0mprint\u001b[0m \u001b[0;34m(\u001b[0m\u001b[0mnew_word\u001b[0m\u001b[0;34m)\u001b[0m\u001b[0;34m\u001b[0m\u001b[0;34m\u001b[0m\u001b[0m\n",
      "\u001b[0;31mTypeError\u001b[0m: unsupported operand type(s) for -: 'str' and 'str'"
     ]
    }
   ],
   "source": [
    "print ('Welcome to the Reverse Pig Latin Translator!')\n",
    "pyg = 'ay'\n",
    "original = input('Enter a word:')\n",
    "if len(original) > 0 and original.isalpha():\n",
    "    word = original.lower()\n",
    "    middle = word[len(word)-3]\n",
    "    terakhir = word[len(word)-1]\n",
    "    dua_terakhir = word[len(word)-2]\n",
    "    match = dua_terakhir+terakhir\n",
    "    if match == pyg:\n",
    "        trans_word = word - pyg\n",
    "        new_word = middle + trans_word[1:(len(trans_word)-1)] \n",
    "        print (new_word)\n",
    "    else:\n",
    "        print(\"Reverse Pig Latin Translator Gagal\")\n",
    "else:\n",
    "    print ('empty')"
   ]
  },
  {
   "cell_type": "code",
   "execution_count": 6,
   "metadata": {},
   "outputs": [
    {
     "name": "stdout",
     "output_type": "stream",
     "text": [
      "Welcome to the Reverse Pig Latin Translator!\n",
      "Enter a word:apalkay\n",
      "kpal\n"
     ]
    }
   ],
   "source": [
    "print ('Welcome to the Reverse Pig Latin Translator!')\n",
    "pyg = 'ay'\n",
    "original = input('Enter a word:')\n",
    "if len(original) > 0 and original.isalpha():\n",
    "    word = original.lower()\n",
    "    middle = word[len(word)-3]\n",
    "    terakhir = word[len(word)-1]\n",
    "    dua_terakhir = word[len(word)-2]\n",
    "    match = dua_terakhir+terakhir\n",
    "    if match == pyg:\n",
    "        new_word = middle + word[1:(len(word)-3)] \n",
    "        print (new_word)\n",
    "    else:\n",
    "        print(\"Reverse Pig Latin Translator Gagal\")\n",
    "else:\n",
    "    print ('empty')"
   ]
  },
  {
   "cell_type": "code",
   "execution_count": 7,
   "metadata": {},
   "outputs": [
    {
     "name": "stdout",
     "output_type": "stream",
     "text": [
      "Welcome to the Reverse Pig Latin Translator!\n",
      "Enter a word:apalkay\n",
      "kapal\n"
     ]
    }
   ],
   "source": [
    "print ('Welcome to the Reverse Pig Latin Translator!')\n",
    "pyg = 'ay'\n",
    "original = input('Enter a word:')\n",
    "if len(original) > 0 and original.isalpha():\n",
    "    word = original.lower()\n",
    "    middle = word[len(word)-3]\n",
    "    terakhir = word[len(word)-1]\n",
    "    dua_terakhir = word[len(word)-2]\n",
    "    match = dua_terakhir+terakhir\n",
    "    if match == pyg:\n",
    "        new_word = middle + word[0:(len(word)-3)] \n",
    "        print (new_word)\n",
    "    else:\n",
    "        print(\"Reverse Pig Latin Translator Gagal\")\n",
    "else:\n",
    "    print ('empty')"
   ]
  },
  {
   "cell_type": "code",
   "execution_count": 8,
   "metadata": {},
   "outputs": [
    {
     "name": "stdout",
     "output_type": "stream",
     "text": [
      "Welcome to the Reverse Pig Latin Translator!\n",
      "Enter a word:apal\n",
      "Reverse Pig Latin Translator Gagal\n"
     ]
    }
   ],
   "source": [
    "print ('Welcome to the Reverse Pig Latin Translator!')\n",
    "pyg = 'ay'\n",
    "original = input('Enter a word:')\n",
    "if len(original) > 0 and original.isalpha():\n",
    "    word = original.lower()\n",
    "    middle = word[len(word)-3]\n",
    "    terakhir = word[len(word)-1]\n",
    "    dua_terakhir = word[len(word)-2]\n",
    "    match = dua_terakhir+terakhir\n",
    "    if match == pyg:\n",
    "        new_word = middle + word[0:(len(word)-3)] \n",
    "        print (new_word)\n",
    "    else:\n",
    "        print(\"Reverse Pig Latin Translator Gagal\")\n",
    "else:\n",
    "    print ('empty')"
   ]
  },
  {
   "cell_type": "code",
   "execution_count": 9,
   "metadata": {},
   "outputs": [
    {
     "name": "stdout",
     "output_type": "stream",
     "text": [
      "Welcome to the Reverse Pig Latin Translator!\n",
      "Enter a word:\n",
      "empty\n"
     ]
    }
   ],
   "source": [
    "print ('Welcome to the Reverse Pig Latin Translator!')\n",
    "pyg = 'ay'\n",
    "original = input('Enter a word:')\n",
    "if len(original) > 0 and original.isalpha():\n",
    "    word = original.lower()\n",
    "    middle = word[len(word)-3]\n",
    "    terakhir = word[len(word)-1]\n",
    "    dua_terakhir = word[len(word)-2]\n",
    "    match = dua_terakhir+terakhir\n",
    "    if match == pyg:\n",
    "        new_word = middle + word[0:(len(word)-3)] \n",
    "        print (new_word)\n",
    "    else:\n",
    "        print(\"Reverse Pig Latin Translator Gagal\")\n",
    "else:\n",
    "    print ('empty')"
   ]
  },
  {
   "cell_type": "code",
   "execution_count": 10,
   "metadata": {},
   "outputs": [
    {
     "name": "stdout",
     "output_type": "stream",
     "text": [
      "Welcome to the Reverse Pig Latin Translator!\n",
      "Enter a word:apal\n",
      "\n"
     ]
    }
   ],
   "source": [
    "print ('Welcome to the Reverse Pig Latin Translator!')\n",
    "pyg = 'ay'\n",
    "original = input('Enter a word:')\n",
    "if len(original) > 0 and original.isalpha():\n",
    "    word = original.lower()\n",
    "    middle = word[len(word)-3]\n",
    "    terakhir = word[len(word)-1]\n",
    "    dua_terakhir = word[len(word)-2]\n",
    "    match = dua_terakhir+terakhir\n",
    "    if match == pyg:\n",
    "        new_word = middle + word[0:(len(word)-3)] \n",
    "        print (new_word)\n",
    "    else:\n",
    "        print(\"\")\n",
    "else:\n",
    "    print ('empty')"
   ]
  },
  {
   "cell_type": "code",
   "execution_count": 11,
   "metadata": {},
   "outputs": [
    {
     "name": "stdout",
     "output_type": "stream",
     "text": [
      "Welcome to the Reverse Pig Latin Translator!\n",
      "Enter a word:hirzatay\n",
      "thirza\n"
     ]
    }
   ],
   "source": [
    "print ('Welcome to the Reverse Pig Latin Translator!')\n",
    "pyg = 'ay'\n",
    "original = input('Enter a word:')\n",
    "if len(original) > 0 and original.isalpha():\n",
    "    word = original.lower()\n",
    "    middle = word[len(word)-3]\n",
    "    terakhir = word[len(word)-1]\n",
    "    dua_terakhir = word[len(word)-2]\n",
    "    match = dua_terakhir+terakhir\n",
    "    if match == pyg:\n",
    "        new_word = middle + word[0:(len(word)-3)] \n",
    "        print (new_word)\n",
    "    else:\n",
    "        print(\"\")\n",
    "else:\n",
    "    print ('empty')"
   ]
  },
  {
   "cell_type": "code",
   "execution_count": 13,
   "metadata": {},
   "outputs": [
    {
     "name": "stdout",
     "output_type": "stream",
     "text": [
      "Welcome to the Reverse Pig Latin Translator!\n",
      "Enter a word:hagicay\n",
      "chagi\n"
     ]
    }
   ],
   "source": [
    "print ('Welcome to the Reverse Pig Latin Translator!')\n",
    "pyg = 'ay'\n",
    "original = input('Enter a word:')\n",
    "if len(original) > 0 and original.isalpha():\n",
    "    word = original.lower()\n",
    "    middle = word[len(word)-3]\n",
    "    terakhir = word[len(word)-1]\n",
    "    dua_terakhir = word[len(word)-2]\n",
    "    match = dua_terakhir+terakhir\n",
    "    if match == pyg:\n",
    "        new_word = middle + word[0:(len(word)-3)] \n",
    "        print (new_word)\n",
    "    else:\n",
    "        print(\"\")\n",
    "else:\n",
    "    print ('empty')"
   ]
  },
  {
   "cell_type": "code",
   "execution_count": 15,
   "metadata": {},
   "outputs": [
    {
     "name": "stdout",
     "output_type": "stream",
     "text": [
      "Welcome to the Reverse Pig Latin Translator!\n",
      "Enter a word:siapanihay\n",
      "hsiapani\n"
     ]
    }
   ],
   "source": [
    "print ('Welcome to the Reverse Pig Latin Translator!')\n",
    "pyg = 'ay'\n",
    "original = input('Enter a word:')\n",
    "if len(original) > 0 and original.isalpha():\n",
    "    word = original.lower()\n",
    "    middle = word[len(word)-3]\n",
    "    terakhir = word[len(word)-1]\n",
    "    dua_terakhir = word[len(word)-2]\n",
    "    match = dua_terakhir+terakhir\n",
    "    if match == pyg:\n",
    "        new_word = middle + word[0:(len(word)-3)] \n",
    "        print (new_word)\n",
    "    else:\n",
    "        print(\"\")\n",
    "else:\n",
    "    print ('empty')"
   ]
  },
  {
   "cell_type": "code",
   "execution_count": null,
   "metadata": {},
   "outputs": [],
   "source": [
    "print ('Welcome to the Reverse Pig Latin Translator!')\n",
    "pyg = 'ay'\n",
    "original = input('Enter a word:')\n",
    "if len(original) > 0 and original.isalpha():\n",
    "    word = original.lower()\n",
    "    middle = word[len(word)-3]\n",
    "    terakhir = word[len(word)-1]\n",
    "    dua_terakhir = word[len(word)-2]\n",
    "    match = dua_terakhir+terakhir\n",
    "    if match == pyg:\n",
    "        new_word = middle + word[0:(len(word)-3)] \n",
    "        print (new_word)\n",
    "    else:\n",
    "        print(\"\")\n",
    "else:\n",
    "    print ('empty')"
   ]
  }
 ],
 "metadata": {
  "kernelspec": {
   "display_name": "Python 3",
   "language": "python",
   "name": "python3"
  },
  "language_info": {
   "codemirror_mode": {
    "name": "ipython",
    "version": 3
   },
   "file_extension": ".py",
   "mimetype": "text/x-python",
   "name": "python",
   "nbconvert_exporter": "python",
   "pygments_lexer": "ipython3",
   "version": "3.7.4"
  }
 },
 "nbformat": 4,
 "nbformat_minor": 2
}
