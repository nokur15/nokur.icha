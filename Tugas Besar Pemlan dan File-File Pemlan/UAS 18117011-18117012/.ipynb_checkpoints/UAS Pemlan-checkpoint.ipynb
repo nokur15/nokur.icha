{
 "cells": [
  {
   "cell_type": "code",
   "execution_count": 4,
   "metadata": {},
   "outputs": [
    {
     "ename": "TypeError",
     "evalue": "__init__() takes 4 positional arguments but 5 were given",
     "output_type": "error",
     "traceback": [
      "\u001b[0;31m---------------------------------------------------------------------------\u001b[0m",
      "\u001b[0;31mTypeError\u001b[0m                                 Traceback (most recent call last)",
      "\u001b[0;32m<ipython-input-4-896f2e13c2cd>\u001b[0m in \u001b[0;36m<module>\u001b[0;34m\u001b[0m\n\u001b[1;32m      5\u001b[0m         \u001b[0mself\u001b[0m\u001b[0;34m.\u001b[0m\u001b[0mkalori\u001b[0m \u001b[0;34m=\u001b[0m \u001b[0mkalori\u001b[0m\u001b[0;34m\u001b[0m\u001b[0;34m\u001b[0m\u001b[0m\n\u001b[1;32m      6\u001b[0m         \u001b[0mself\u001b[0m\u001b[0;34m.\u001b[0m\u001b[0mjenis\u001b[0m \u001b[0;34m=\u001b[0m \u001b[0mjenis\u001b[0m\u001b[0;34m\u001b[0m\u001b[0;34m\u001b[0m\u001b[0m\n\u001b[0;32m----> 7\u001b[0;31m \u001b[0mpribadi\u001b[0m \u001b[0;34m=\u001b[0m \u001b[0mPribadi\u001b[0m\u001b[0;34m(\u001b[0m\u001b[0;34m\"Naufal\"\u001b[0m\u001b[0;34m,\u001b[0m \u001b[0;36m30\u001b[0m\u001b[0;34m,\u001b[0m \u001b[0;34m\"ayam\"\u001b[0m\u001b[0;34m,\u001b[0m \u001b[0;34m\"panggang\"\u001b[0m\u001b[0;34m)\u001b[0m\u001b[0;34m\u001b[0m\u001b[0;34m\u001b[0m\u001b[0m\n\u001b[0m\u001b[1;32m      8\u001b[0m \u001b[0mpribadi\u001b[0m\u001b[0;34m.\u001b[0m\u001b[0mjenis\u001b[0m \u001b[0;34m=\u001b[0m \u001b[0minput\u001b[0m\u001b[0;34m(\u001b[0m\u001b[0;34m\"Masukkan jenis makanan pilihan :\"\u001b[0m\u001b[0;34m)\u001b[0m\u001b[0;34m\u001b[0m\u001b[0;34m\u001b[0m\u001b[0m\n\u001b[1;32m      9\u001b[0m \u001b[0mpribadi\u001b[0m\u001b[0;34m.\u001b[0m\u001b[0mkalori\u001b[0m \u001b[0;34m=\u001b[0m \u001b[0minput\u001b[0m\u001b[0;34m(\u001b[0m\u001b[0;34m\"Masukkan batas kalori :\"\u001b[0m\u001b[0;34m)\u001b[0m\u001b[0;34m\u001b[0m\u001b[0;34m\u001b[0m\u001b[0m\n",
      "\u001b[0;31mTypeError\u001b[0m: __init__() takes 4 positional arguments but 5 were given"
     ]
    }
   ],
   "source": [
    "class Pribadi():\n",
    "    batas_kalori = 1000\n",
    "    def __init__(self, name, kalori, jenis):\n",
    "        self.name = name\n",
    "        self.kalori = kalori\n",
    "        self.jenis = jenis\n",
    "pribadi = Pribadi(\"Naufal\", 30, \"ayam\", \"panggang\")\n",
    "pribadi.jenis = input(\"Masukkan jenis makanan pilihan :\")\n",
    "pribadi.kalori = input(\"Masukkan batas kalori :\")"
   ]
  },
  {
   "cell_type": "code",
   "execution_count": 33,
   "metadata": {},
   "outputs": [
    {
     "name": "stdout",
     "output_type": "stream",
     "text": [
      "20\n",
      "(20, 6)\n",
      "       Nama Tempat Makan Tipe Masakan  Harga  Kalori(kkal)               Menu  \\\n",
      "0  WAROENG STEAK & SHAKE       goreng  19500           365      Chicken steak   \n",
      "1  WAROENG STEAK & SHAKE       goreng  21500           576            Sirloin   \n",
      "2  WAROENG STEAK & SHAKE       goreng  24000           309        Cordon Bleu   \n",
      "3  WAROENG STEAK & SHAKE       goreng  21500           257  steak burger beef   \n",
      "4  WAROENG STEAK & SHAKE       goreng  16000           358  nasi paprika ayam   \n",
      "\n",
      "  Bahan Makanan utama  \n",
      "0                ayam  \n",
      "1                sapi  \n",
      "2                ayam  \n",
      "3                sapi  \n",
      "4                ayam  \n"
     ]
    }
   ],
   "source": [
    "import pandas as pd\n",
    "import numpy as np\n",
    "def importdata(file): #Importing data\n",
    "            balance_data=pd.read_csv(file, sep= ';')\n",
    "            print(len(balance_data))\n",
    "            print(balance_data.shape)\n",
    "            print(balance_data.head())\n",
    "            return balance_data\n",
    "data=importdata('uas-dago-restaurant.csv')"
   ]
  },
  {
   "cell_type": "code",
   "execution_count": 34,
   "metadata": {},
   "outputs": [],
   "source": [
    "training_data = np.array(data)\n",
    "header = [\"Nama Tempat Makan\",\"Tipe Masakan\", \"Harga\",\"Kalori(kkal)\",\"Menu\", \"Bahan Makanan utama\"]"
   ]
  },
  {
   "cell_type": "code",
   "execution_count": 35,
   "metadata": {},
   "outputs": [],
   "source": [
    "def classify(row, node):\n",
    "    \"\"\"See the 'rules of recursion' above.\"\"\"\n",
    "\n",
    "    # Base case: we've reached a leaf\n",
    "    if isinstance(node, Leaf):\n",
    "        return node.predictions\n",
    "\n",
    "    # Decide whether to follow the true-branch or the false-branch.\n",
    "    # Compare the feature / value stored in the node,\n",
    "    # to the example we're considering.\n",
    "    if node.question.match(row):\n",
    "        return classify(row, node.true_branch)\n",
    "    else:\n",
    "        return classify(row, node.false_branch)\n",
    "        \n",
    "def print_leaf(counts):\n",
    "    \"\"\"A nicer way to print the predictions at a leaf.\"\"\"\n",
    "    total = sum(counts.values()) * 1.0\n",
    "    probs = {}\n",
    "    for lbl in counts.keys():\n",
    "        probs[lbl] = str(int(counts[lbl] / total * 100)) + \"%\"\n",
    "    return probs"
   ]
  },
  {
   "cell_type": "code",
   "execution_count": 36,
   "metadata": {},
   "outputs": [],
   "source": [
    "def unique_vals(rows, col):\n",
    "    \"\"\"Find the unique values for a column in a dataset.\"\"\"\n",
    "    return set([row[col] for row in rows])\n",
    "\n",
    "def class_counts(rows):\n",
    "    \"\"\"Counts the number of each type of example in a dataset.\"\"\"\n",
    "    counts = {}  # a dictionary of label -> count.\n",
    "    for row in rows:\n",
    "        # in our dataset format, the label is always the last column\n",
    "        label = row[-1]\n",
    "        if label not in counts:\n",
    "            counts[label] = 0\n",
    "        counts[label] += 1\n",
    "    return counts\n",
    "\n",
    "def is_numeric(value):\n",
    "    \"\"\"Test if a value is numeric.\"\"\"\n",
    "    return isinstance(value, int) or isinstance(value, float)\n",
    "\n",
    "class Question:\n",
    "    \"\"\"A Question is used to partition a dataset.\n",
    "\n",
    "    This class just records a 'column number' (e.g., 0 for Color) and a\n",
    "    'column value' (e.g., Green). The 'match' method is used to compare\n",
    "    the feature value in an example to the feature value stored in the\n",
    "    question. See the demo below.\n",
    "    \"\"\"\n",
    "\n",
    "    def __init__(self, column, value):\n",
    "        self.column = column\n",
    "        self.value = value\n",
    "\n",
    "    def match(self, example):\n",
    "        # Compare the feature value in an example to the\n",
    "        # feature value in this question.\n",
    "        val = example[self.column]\n",
    "        if is_numeric(val):\n",
    "            return val >= self.value\n",
    "        else:\n",
    "            return val == self.value\n",
    "\n",
    "    def __repr__(self):\n",
    "        # This is just a helper method to print\n",
    "        # the question in a readable format.\n",
    "        condition = \"==\"\n",
    "        if is_numeric(self.value):\n",
    "            condition = \">=\"\n",
    "        return \"Is %s %s %s?\" % (header[self.column], condition, str(self.value))\n",
    "def partition(rows, question):\n",
    "    \"\"\"Partitions a dataset.\n",
    "\n",
    "    For each row in the dataset, check if it matches the question. If\n",
    "    so, add it to 'true rows', otherwise, add it to 'false rows'.\n",
    "    \"\"\"\n",
    "    true_rows, false_rows = [], []\n",
    "    for row in rows:\n",
    "        if question.match(row):\n",
    "            true_rows.append(row)\n",
    "        else:\n",
    "            false_rows.append(row)\n",
    "    return true_rows, false_rows\n",
    "    \n",
    "def gini(rows):\n",
    "    \"\"\"Calculate the Gini Impurity for a list of rows.\n",
    "\n",
    "    There are a few different ways to do this, I thought this one was\n",
    "    the most concise. See:\n",
    "    https://en.wikipedia.org/wiki/Decision_tree_learning#Gini_impurity\n",
    "    \"\"\"\n",
    "    counts = class_counts(rows)\n",
    "    impurity = 1\n",
    "    for lbl in counts:\n",
    "        prob_of_lbl = counts[lbl] / float(len(rows))\n",
    "        impurity -= prob_of_lbl**2\n",
    "    return impurity\n",
    "    \n",
    "def info_gain(left, right, current_uncertainty):\n",
    "    \"\"\"Information Gain.\n",
    "\n",
    "    The uncertainty of the starting node, minus the weighted impurity of\n",
    "    two child nodes.\n",
    "    \"\"\"\n",
    "    p = float(len(left)) / (len(left) + len(right))\n",
    "    return current_uncertainty - p * gini(left) - (1 - p) * gini(right)\n",
    "    \n",
    "def find_best_split(rows):\n",
    "    \"\"\"Find the best question to ask by iterating over every feature / value\n",
    "    and calculating the information gain.\"\"\"\n",
    "    best_gain = 0  # keep track of the best information gain\n",
    "    best_question = 0  # keep train of the feature / value that produced it\n",
    "    current_uncertainty = gini(rows)\n",
    "    n_features = len(rows[0]) - 1  # number of columns\n",
    "\n",
    "    for col in range(n_features):  # for each feature\n",
    "\n",
    "        values = set([row[col] for row in rows])  # unique values in the column\n",
    "\n",
    "        for val in values:  # for each value\n",
    "\n",
    "            question = Question(col, val)\n",
    "\n",
    "            # try splitting the dataset\n",
    "            true_rows, false_rows = partition(rows, question)\n",
    "\n",
    "            # Skip this split if it doesn't divide the\n",
    "            # dataset.\n",
    "            if len(true_rows) == 0 or len(false_rows) == 0:\n",
    "                continue\n",
    "\n",
    "            # Calculate the information gain from this split\n",
    "            gain = info_gain(true_rows, false_rows, current_uncertainty)\n",
    "\n",
    "            # You actually can use '>' instead of '>=' here\n",
    "            # but I wanted the tree to look a certain way for our\n",
    "            # toy dataset.\n",
    "            if gain >= best_gain:\n",
    "                best_gain, best_question = gain, question\n",
    "\n",
    "    return best_gain, best_question\n",
    "    \n",
    "class Leaf:\n",
    "    \"\"\"A Leaf node classifies data.\n",
    "\n",
    "    This holds a dictionary of class (e.g., \"Apple\") -> number of times\n",
    "    it appears in the rows from the training data that reach this leaf.\n",
    "    \"\"\"\n",
    "\n",
    "    def __init__(self, rows):\n",
    "        self.predictions = class_counts(rows)\n",
    "\n",
    "class Decision_Node:\n",
    "    \"\"\"A Decision Node asks a question.\n",
    "\n",
    "    This holds a reference to the question, and to the two child nodes.\n",
    "    \"\"\"\n",
    "\n",
    "    def __init__(self,\n",
    "                 question,\n",
    "                 true_branch,\n",
    "                 false_branch):\n",
    "        self.question = question\n",
    "        self.true_branch = true_branch\n",
    "        self.false_branch = false_branch\n",
    "    \n",
    "def build_tree(rows):\n",
    "    \"\"\"Builds the tree.\n",
    "\n",
    "    Rules of recursion: 1) Believe that it works. 2) Start by checking\n",
    "    for the base case (no further information gain). 3) Prepare for\n",
    "    giant stack traces.\n",
    "    \"\"\"\n",
    "\n",
    "    # Try partitioing the dataset on each of the unique attribute,\n",
    "    # calculate the information gain,\n",
    "    # and return the question that produces the highest gain.\n",
    "    gain, question = find_best_split(rows)\n",
    "\n",
    "    # Base case: no further info gain\n",
    "    # Since we can ask no further questions,\n",
    "    # we'll return a leaf.\n",
    "    if gain == 0:\n",
    "        return Leaf(rows)\n",
    "\n",
    "    # If we reach here, we have found a useful feature / value\n",
    "    # to partition on.\n",
    "    true_rows, false_rows = partition(rows, question)\n",
    "\n",
    "    # Recursively build the true branch.\n",
    "    true_branch = build_tree(true_rows)\n",
    "\n",
    "    # Recursively build the false branch.\n",
    "    false_branch = build_tree(false_rows)\n",
    "\n",
    "    # Return a Question node.\n",
    "    # This records the best feature / value to ask at this point,\n",
    "    # as well as the branches to follow\n",
    "    # dependingo on the answer.\n",
    "    return Decision_Node(question, true_branch, false_branch)\n",
    "    \n",
    "def print_tree(node, spacing=\"\"):\n",
    "    \"\"\"World's most elegant tree printing function.\"\"\"\n",
    "\n",
    "    # Base case: we've reached a leaf\n",
    "    if isinstance(node, Leaf):\n",
    "        print (spacing + \"Predict\", node.predictions)\n",
    "        return\n",
    "\n",
    "    # Print the question at this node\n",
    "    print (spacing + str(node.question))\n",
    "\n",
    "    # Call this function recursively on the true branch\n",
    "    print (spacing + '--> True:')\n",
    "    print_tree(node.true_branch, spacing + \"  \")\n",
    "\n",
    "    # Call this function recursively on the false branch\n",
    "    print (spacing + '--> False:')\n",
    "    print_tree(node.false_branch, spacing + \"  \")"
   ]
  },
  {
   "cell_type": "code",
   "execution_count": 37,
   "metadata": {},
   "outputs": [
    {
     "name": "stdout",
     "output_type": "stream",
     "text": [
      "Is Kalori(kkal) >= 267?\n",
      "--> True:\n",
      "  Is Kalori(kkal) >= 576?\n",
      "  --> True:\n",
      "    Is Menu == spaggheti?\n",
      "    --> True:\n",
      "      Predict {'mie': 1}\n",
      "    --> False:\n",
      "      Predict {'sapi': 2}\n",
      "  --> False:\n",
      "    Is Harga >= 30500?\n",
      "    --> True:\n",
      "      Is Menu == nasi ayam kremes komplit?\n",
      "      --> True:\n",
      "        Predict {'ayam': 1}\n",
      "      --> False:\n",
      "        Is Menu == rawon bakso campur?\n",
      "        --> True:\n",
      "          Predict {'sapi': 1}\n",
      "        --> False:\n",
      "          Predict {'ikan': 2}\n",
      "    --> False:\n",
      "      Is Menu == nasi goreng telor?\n",
      "      --> True:\n",
      "        Predict {'nasi': 1}\n",
      "      --> False:\n",
      "        Predict {'ayam': 6}\n",
      "--> False:\n",
      "  Is Menu == tuna pepper?\n",
      "  --> True:\n",
      "    Predict {'ikan': 1}\n",
      "  --> False:\n",
      "    Predict {'sapi': 5}\n"
     ]
    }
   ],
   "source": [
    "tree_build1 = build_tree(training_data)\n",
    "print_tree(tree_build1)"
   ]
  },
  {
   "cell_type": "code",
   "execution_count": 41,
   "metadata": {},
   "outputs": [],
   "source": [
    "num = classify(training_data[12],tree_build1)"
   ]
  },
  {
   "cell_type": "code",
   "execution_count": 43,
   "metadata": {},
   "outputs": [],
   "source": [
    "nomor1 = num[pribadi.jenis]"
   ]
  },
  {
   "cell_type": "code",
   "execution_count": 44,
   "metadata": {},
   "outputs": [
    {
     "data": {
      "text/plain": [
       "25.0"
      ]
     },
     "execution_count": 44,
     "metadata": {},
     "output_type": "execute_result"
    }
   ],
   "source": [
    "persentase = (nomor1/20)*100\n",
    "persentase"
   ]
  },
  {
   "cell_type": "code",
   "execution_count": 46,
   "metadata": {},
   "outputs": [
    {
     "name": "stdout",
     "output_type": "stream",
     "text": [
      "20\n",
      "(20, 6)\n",
      "           Nama Tempat Makan Tipe Masakan  Harga  Kalori (kkal)  \\\n",
      "0  PONDOK MAKAN IKAN CIANJUR       goreng  72000            137   \n",
      "1  PONDOK MAKAN IKAN CIANJUR       goreng  72000            140   \n",
      "2  PONDOK MAKAN IKAN CIANJUR     panggang  83000            125   \n",
      "3  PONDOK MAKAN IKAN CIANJUR       goreng  65000            274   \n",
      "4  PONDOK MAKAN IKAN CIANJUR       goreng  65000            256   \n",
      "\n",
      "                 Menu Bahan Makanan utama  \n",
      "0       gurame goreng                ikan  \n",
      "1   gurame asam manis                ikan  \n",
      "2  gurame sate renyes                ikan  \n",
      "3         nila pesmol                ikan  \n",
      "4        nila goreng                 ikan  \n",
      "Is Harga >= 57000?\n",
      "--> True:\n",
      "  Predict {'ikan': 9}\n",
      "--> False:\n",
      "  Is Kalori(kkal) >= 480?\n",
      "  --> True:\n",
      "    Predict {'mie': 4}\n",
      "  --> False:\n",
      "    Is Kalori(kkal) >= 242?\n",
      "    --> True:\n",
      "      Is Menu == nasi ayam saos telor asin?\n",
      "      --> True:\n",
      "        Predict {'ayam': 1}\n",
      "      --> False:\n",
      "        Is Kalori(kkal) >= 401?\n",
      "        --> True:\n",
      "          Predict {'sapi': 2}\n",
      "        --> False:\n",
      "          Is Menu == nasi bakso saos kecap?\n",
      "          --> True:\n",
      "            Predict {'sapi': 1}\n",
      "          --> False:\n",
      "            Predict {'nasi': 2}\n",
      "    --> False:\n",
      "      Predict {'mie': 1}\n"
     ]
    }
   ],
   "source": [
    "data2=importdata('uas-riau-restaurant.csv')\n",
    "training_data2 = np.array(data2)\n",
    "tree_build2 = build_tree(training_data2)\n",
    "print_tree(tree_build2)"
   ]
  },
  {
   "cell_type": "code",
   "execution_count": 51,
   "metadata": {},
   "outputs": [],
   "source": [
    "num2 = classify(training_data2[18],tree_build2)"
   ]
  },
  {
   "cell_type": "code",
   "execution_count": 52,
   "metadata": {},
   "outputs": [],
   "source": [
    "nomor2 = num2[pribadi.jenis]"
   ]
  },
  {
   "cell_type": "code",
   "execution_count": 53,
   "metadata": {},
   "outputs": [
    {
     "data": {
      "text/plain": [
       "5.0"
      ]
     },
     "execution_count": 53,
     "metadata": {},
     "output_type": "execute_result"
    }
   ],
   "source": [
    "persentase2 = (nomor2/20)*100\n",
    "persentase2"
   ]
  },
  {
   "cell_type": "code",
   "execution_count": null,
   "metadata": {},
   "outputs": [],
   "source": []
  }
 ],
 "metadata": {
  "kernelspec": {
   "display_name": "Python 3",
   "language": "python",
   "name": "python3"
  },
  "language_info": {
   "codemirror_mode": {
    "name": "ipython",
    "version": 3
   },
   "file_extension": ".py",
   "mimetype": "text/x-python",
   "name": "python",
   "nbconvert_exporter": "python",
   "pygments_lexer": "ipython3",
   "version": "3.7.4"
  }
 },
 "nbformat": 4,
 "nbformat_minor": 2
}
